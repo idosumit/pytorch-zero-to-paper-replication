{
 "cells": [
  {
   "cell_type": "code",
   "execution_count": 1,
   "metadata": {},
   "outputs": [],
   "source": [
    "import torch\n",
    "import torch.nn as nn\n",
    "import matplotlib.pyplot as plt"
   ]
  },
  {
   "cell_type": "markdown",
   "metadata": {},
   "source": [
    "#### 1. Create a straight line dataset using the linear regression formula (weight * X + bias).\n",
    "\n",
    "- Set weight=0.3 and bias=0.9 there should be at least 100 datapoints total.\n",
    "- Split the data into 80% training, 20% testing.\n",
    "- Plot the training and testing data so it becomes visual."
   ]
  },
  {
   "cell_type": "code",
   "execution_count": 2,
   "metadata": {},
   "outputs": [],
   "source": [
    "weight = 0.3\n",
    "bias = 0.9\n",
    "\n",
    "datapoints = 1000000\n",
    "\n",
    "# Generating random X values using a uniform distribution\n",
    "# between 0 and 1 for X\n",
    "X = torch.linspace(0, 100, datapoints)\n",
    "y = weight * X + bias\n",
    "# Data for X and y is now set.\n",
    "\n",
    "split = int(0.9*len(X)) # 90% split\n",
    "\n",
    "X_train, y_train = X[:split], y[:split] # 90% for training\n",
    "X_test, y_test = X[split:], y[split:] # 10% for testing"
   ]
  },
  {
   "cell_type": "code",
   "execution_count": 3,
   "metadata": {},
   "outputs": [
    {
     "data": {
      "image/png": "[encoded data removed]",
      "text/plain": [
       "<Figure size 1000x700 with 1 Axes>"
      ]
     },
     "metadata": {},
     "output_type": "display_data"
    }
   ],
   "source": [
    "# plotting\n",
    "\n",
    "def plot_predictions(train_data=X_train, \n",
    "                     train_labels=y_train, \n",
    "                     test_data=X_test, \n",
    "                     test_labels=y_test, \n",
    "                     predictions=None):\n",
    "  \"\"\"\n",
    "  Plots training data, test data and compares predictions.\n",
    "  \"\"\"\n",
    "  plt.figure(figsize=(10, 7))\n",
    "\n",
    "  # Plot training data in blue\n",
    "  plt.scatter(train_data, train_labels, c=\"b\", s=4, label=\"Training data\")\n",
    "  \n",
    "  # Plot test data in green\n",
    "  plt.scatter(test_data, test_labels, c=\"g\", s=4, label=\"Testing data\")\n",
    "\n",
    "  if predictions is not None:\n",
    "    # Plot the predictions in red (predictions were made on the test data)\n",
    "    plt.scatter(test_data, predictions, c=\"r\", s=4, label=\"Predictions\")\n",
    "\n",
    "  # Show the legend\n",
    "  plt.legend(prop={\"size\": 14});\n",
    "\n",
    "plot_predictions()"
   ]
  },
  {
   "cell_type": "markdown",
   "metadata": {},
   "source": [
    "---\n",
    "\n",
    "#### 2. Build a PyTorch model by subclassing nn.Module.\n",
    "\n",
    "- Inside should be a randomly initialized nn.Parameter() with requires_grad=True, one for weights and one for bias.\n",
    "- Implement the forward() method to compute the linear regression function you used to create the dataset in 1.\n",
    "- Once you've constructed the model, make an instance of it and check its state_dict().\n"
   ]
  },
  {
   "cell_type": "code",
   "execution_count": 4,
   "metadata": {},
   "outputs": [],
   "source": [
    "# way 1\n",
    "\n",
    "if torch.backends.mps.is_available():\n",
    "    device = \"mps\"\n",
    "elif torch.cuda.is_available():\n",
    "    device = \"cuda\"\n",
    "else:\n",
    "    device = \"cpu\"\n",
    "\n",
    "class SimpleLinearRegressionV1(nn.Module):\n",
    "    def __init__(self):\n",
    "        super().__init__()\n",
    "\n",
    "        self.weights = nn.Parameter(\n",
    "            torch.randn(1, dtype=torch.float32),\n",
    "            requires_grad=True\n",
    "            )\n",
    "\n",
    "        self.biases = nn.Parameter(\n",
    "            torch.randn(1, dtype=torch.float32),\n",
    "            requires_grad=True\n",
    "            )\n",
    "    \n",
    "    def forward(self, x: torch.Tensor) -> torch.Tensor:\n",
    "        return self.weights * x + self.biases"
   ]
  },
  {
   "cell_type": "code",
   "execution_count": 5,
   "metadata": {},
   "outputs": [
    {
     "data": {
      "text/plain": [
       "OrderedDict([('weights', tensor([0.3076])), ('biases', tensor([0.2766]))])"
      ]
     },
     "execution_count": 5,
     "metadata": {},
     "output_type": "execute_result"
    }
   ],
   "source": [
    "torch.manual_seed(741)\n",
    "\n",
    "model_01 = SimpleLinearRegressionV1()\n",
    "model_01.state_dict()"
   ]
  },
  {
   "cell_type": "code",
   "execution_count": 16,
   "metadata": {},
   "outputs": [],
   "source": [
    "# way 2\n",
    "\n",
    "class SimpleLinearRegressionV2(nn.Module):\n",
    "    def __init__(self):\n",
    "        super().__init__()\n",
    "        self.linear_layer = nn.Linear(\n",
    "            in_features=1,\n",
    "            out_features=1,\n",
    "            bias=True\n",
    "        )\n",
    "    \n",
    "    def forward(self, x: torch.Tensor) -> torch.Tensor:\n",
    "        return self.linear_layer(x)"
   ]
  },
  {
   "cell_type": "code",
   "execution_count": 18,
   "metadata": {},
   "outputs": [
    {
     "data": {
      "text/plain": [
       "OrderedDict([('linear_layer.weight', tensor([[-0.2209]])),\n",
       "             ('linear_layer.bias', tensor([-0.7778]))])"
      ]
     },
     "execution_count": 18,
     "metadata": {},
     "output_type": "execute_result"
    }
   ],
   "source": [
    "torch.manual_seed(741)\n",
    "\n",
    "model_02 = SimpleLinearRegressionV2()\n",
    "model_02.state_dict()"
   ]
  },
  {
   "cell_type": "markdown",
   "metadata": {},
   "source": [
    "---\n",
    "\n",
    "### A quick detour\n",
    "\n",
    "Let me take a quick detour to explain to myself what the significance is behind using `1` for `in_features` and `out_features` in `nn.Linear`. What do these numbers represent? \n",
    "\n",
    "Of course, I could simply wrap it up by stating to myself that it's the number of features in the input and the number of features in the output. But, I wanted to go a little further. What if the number wasn't 1? What if it wasn't a single number? What if it was a matrix?\n",
    "\n",
    "I tried with multiple inputs and outputs.\n",
    "\n",
    "Below, I consider a concrete example with:\n",
    "- 3 input features\n",
    "- 2 output features\n",
    "\n",
    "The weight matrix W would have shape (3, 2) because:\n",
    "- It needs to map 3 inputs to 2 outputs\n",
    "- Each column represents the weights for one output feature\n",
    "\n",
    "The bias vector b would have shape (2) because:\n",
    "- There needs to be one bias term for each output feature"
   ]
  },
  {
   "cell_type": "code",
   "execution_count": 21,
   "metadata": {},
   "outputs": [
    {
     "data": {
      "text/plain": [
       "(tensor([[ 0.5320,  0.3494, -0.7011],\n",
       "         [ 0.1923,  0.9713, -0.5344],\n",
       "         [ 0.1000, -0.4966, -1.4584]]),\n",
       " torch.Size([3, 3]))"
      ]
     },
     "execution_count": 21,
     "metadata": {},
     "output_type": "execute_result"
    }
   ],
   "source": [
    "X_ex = torch.randn(3,3)\n",
    "X_ex, X_ex.shape"
   ]
  },
  {
   "cell_type": "code",
   "execution_count": 22,
   "metadata": {},
   "outputs": [
    {
     "data": {
      "text/plain": [
       "(tensor([[-0.8615, -1.0990],\n",
       "         [ 1.6957, -1.1614],\n",
       "         [-0.2732,  0.6632]]),\n",
       " torch.Size([3, 2]))"
      ]
     },
     "execution_count": 22,
     "metadata": {},
     "output_type": "execute_result"
    }
   ],
   "source": [
    "W_ex = torch.randn(3,2)\n",
    "W_ex, W_ex.shape"
   ]
  },
  {
   "cell_type": "code",
   "execution_count": 23,
   "metadata": {},
   "outputs": [
    {
     "data": {
      "text/plain": [
       "(tensor([ 0.0318, -0.6813]), torch.Size([2]))"
      ]
     },
     "execution_count": 23,
     "metadata": {},
     "output_type": "execute_result"
    }
   ],
   "source": [
    "b_ex = torch.randn(2)\n",
    "b_ex, b_ex.shape"
   ]
  },
  {
   "cell_type": "markdown",
   "metadata": {},
   "source": [
    "So, computation for this is:\n",
    "$$y[i, j] = x[i, 0] * W[0, j] + x[i, 1] * W[1, j] + b[j]$$\n",
    "\n"
   ]
  },
  {
   "cell_type": "code",
   "execution_count": 28,
   "metadata": {},
   "outputs": [
    {
     "data": {
      "text/plain": [
       "tensor([[ 0.3575, -2.1368],\n",
       "        [ 1.6591, -2.3752],\n",
       "        [-0.4979, -1.1816]])"
      ]
     },
     "execution_count": 28,
     "metadata": {},
     "output_type": "execute_result"
    }
   ],
   "source": [
    "y_ex = X_ex @ W_ex + b_ex\n",
    "y_ex"
   ]
  },
  {
   "cell_type": "markdown",
   "metadata": {},
   "source": [
    "A PyTorch model for this would be:"
   ]
  },
  {
   "cell_type": "code",
   "execution_count": 37,
   "metadata": {},
   "outputs": [],
   "source": [
    "class MultiInputOutputModel(nn.Module):\n",
    "    def __init__(self):\n",
    "        super().__init__()\n",
    "        self.linear = nn.Linear(\n",
    "            in_features=3, out_features=2, bias=True, dtype=torch.float32\n",
    "            )\n",
    "    def forward(self, x: torch.Tensor) -> torch.Tensor:\n",
    "        return self.linear(x)"
   ]
  },
  {
   "cell_type": "code",
   "execution_count": 38,
   "metadata": {},
   "outputs": [
    {
     "data": {
      "text/plain": [
       "OrderedDict([('linear.weight',\n",
       "              tensor([[ 0.4647, -0.2825, -0.0710],\n",
       "                      [ 0.4594,  0.3356,  0.3218]])),\n",
       "             ('linear.bias', tensor([0.3368, 0.1603]))])"
      ]
     },
     "execution_count": 38,
     "metadata": {},
     "output_type": "execute_result"
    }
   ],
   "source": [
    "# creating an instance of this model\n",
    "multi_model = MultiInputOutputModel()\n",
    "multi_model.state_dict()"
   ]
  },
  {
   "cell_type": "markdown",
   "metadata": {},
   "source": [
    "Here, I can see that the `linear.weight` has shape (2, 3) (despite our intuition that it should be (3, 2)) and the `linear.bias` has shape (2).\n",
    "\n",
    "This is because PyTorch's `nn.Linear` class always transposes the weight matrix to (out_features, in_features). It calls the weight matrix `W` and the input matrix `X` and computes `X @ W.T + b`. \"Affine transformation\" is the term used for this operation.\n",
    "\n",
    "This is a bit counterintuitive, but it's a consequence of how PyTorch handles matrix multiplication.\n",
    "\n",
    "**In summary:**\n",
    "\n",
    "Case 1:\n",
    "- a `nn.Linear` layer with `in_features=3` and `out_features=2` will have a weight matrix of shape (2, 3).\n",
    "- the input matrix `X` will be multiplied by the weight matrix `W.T` (transposed) and then added to the bias vector `b`. So, the bias vector `b` will have shape (2).\n",
    "\n",
    "Case 2:\n",
    "- a `nn.Linear` layer with `in_features=5` and `out_features=12` will have a weight matrix of shape (12, 5).\n",
    "- the input matrix `X` will be multiplied by the weight matrix `W.T` (transposed) and then added to the bias vector `b`. So, the bias vector `b` will have shape (12).\n"
   ]
  },
  {
   "cell_type": "markdown",
   "metadata": {},
   "source": [
    "Of course, I can also set the weights and biases manually. \n",
    "\n",
    "Here, I set the weights and biases manually for the `multi_model` instance."
   ]
  },
  {
   "cell_type": "code",
   "execution_count": 35,
   "metadata": {},
   "outputs": [],
   "source": [
    "# setting specific weights and biases for demo\n",
    "with torch.inference_mode():\n",
    "    multi_model.linear.weight = nn.Parameter(torch.tensor([[0.1, 0.2],\n",
    "                                                     [0.3, 0.4],\n",
    "                                                     [0.5, 0.6]]))\n",
    "    multi_model.linear.bias = nn.Parameter(torch.tensor([0.01, 0.02]))\n"
   ]
  },
  {
   "cell_type": "code",
   "execution_count": 36,
   "metadata": {},
   "outputs": [
    {
     "data": {
      "text/plain": [
       "OrderedDict([('linear.weight',\n",
       "              tensor([[0.1000, 0.2000],\n",
       "                      [0.3000, 0.4000],\n",
       "                      [0.5000, 0.6000]])),\n",
       "             ('linear.bias', tensor([0.0100, 0.0200]))])"
      ]
     },
     "execution_count": 36,
     "metadata": {},
     "output_type": "execute_result"
    }
   ],
   "source": [
    "multi_model.state_dict()"
   ]
  },
  {
   "cell_type": "markdown",
   "metadata": {},
   "source": [
    "Here, I can see that the `linear.weight` has shape (3, 2) and the `linear.bias` has shape (2).\n",
    "\n",
    "```python\n",
    "OrderedDict([('linear.weight',\n",
    "              tensor([[0.1000, 0.2000],\n",
    "                      [0.3000, 0.4000],\n",
    "                      [0.5000, 0.6000]])),\n",
    "             ('linear.bias', tensor([0.0100, 0.0200]))]\n",
    "```\n",
    "\n",
    "Obviously, we don't really (and often it is not) set the weights and biases manually. We use the `nn.Linear` class to do that because we probably don't even know what the weights and biases are. We let the model learn them.\n",
    "\n",
    "\n",
    "#### Detour over\n",
    "\n",
    "---"
   ]
  },
  {
   "cell_type": "markdown",
   "metadata": {},
   "source": [
    "#### 3. Create a loss function and optimizer using `nn.L1Loss()` and `torch.optim.SGD(params, lr)` respectively.\n",
    "\n",
    "- Set the learning rate of the optimizer to be 0.01 and the parameters to optimize should be the model parameters from the model you created in 2.\n",
    "- Write a training loop to perform the appropriate training steps for 300 epochs.\n",
    "- The training loop should test the model on the test dataset every 20 epochs.\n"
   ]
  },
  {
   "cell_type": "markdown",
   "metadata": {},
   "source": []
  }
 ],
 "metadata": {
  "kernelspec": {
   "display_name": "venv_python",
   "language": "python",
   "name": "python3"
  },
  "language_info": {
   "codemirror_mode": {
    "name": "ipython",
    "version": 3
   },
   "file_extension": ".py",
   "mimetype": "text/x-python",
   "name": "python",
   "nbconvert_exporter": "python",
   "pygments_lexer": "ipython3",
   "version": "3.9.6"
  }
 },
 "nbformat": 4,
 "nbformat_minor": 2
}
