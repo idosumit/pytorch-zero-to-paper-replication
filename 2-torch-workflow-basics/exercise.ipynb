{
 "cells": [
  {
   "cell_type": "code",
   "execution_count": 1,
   "metadata": {},
   "outputs": [],
   "source": [
    "import torch\n",
    "import torch.nn as nn\n",
    "import matplotlib.pyplot as plt"
   ]
  },
  {
   "cell_type": "markdown",
   "metadata": {},
   "source": [
    "### 1. Create a straight line dataset using the linear regression formula (weight * X + bias).\n",
    "\n",
    "- Set weight=0.3 and bias=0.9 there should be at least 100 datapoints total.\n",
    "- Split the data into 80% training, 20% testing.\n",
    "- Plot the training and testing data so it becomes visual."
   ]
  },
  {
   "cell_type": "code",
   "execution_count": 2,
   "metadata": {},
   "outputs": [
    {
     "name": "stdout",
     "output_type": "stream",
     "text": [
      "tensor([[0.0000],\n",
      "        [0.1010],\n",
      "        [0.2020],\n",
      "        [0.3030],\n",
      "        [0.4040],\n",
      "        [0.5051],\n",
      "        [0.6061],\n",
      "        [0.7071],\n",
      "        [0.8081],\n",
      "        [0.9091]]) torch.Size([100, 1]) tensor([[0.9000],\n",
      "        [0.9303],\n",
      "        [0.9606],\n",
      "        [0.9909],\n",
      "        [1.0212],\n",
      "        [1.0515],\n",
      "        [1.0818],\n",
      "        [1.1121],\n",
      "        [1.1424],\n",
      "        [1.1727]]) torch.Size([100, 1])\n",
      "80 80 20 20\n"
     ]
    }
   ],
   "source": [
    "weight = 0.3\n",
    "bias = 0.9\n",
    "\n",
    "datapoints = 100\n",
    "\n",
    "# Generating random X values using a uniform distribution\n",
    "# between 0 and 1 for X\n",
    "X = torch.linspace(0, 10, datapoints).unsqueeze(dim=1)\n",
    "y = weight * X + bias\n",
    "print(X[:10], X.shape, y[:10], y.shape)\n",
    "# Data for X and y is now set.\n",
    "\n",
    "split = int(0.8*len(X)) # 80% split\n",
    "\n",
    "X_train, y_train = X[:split], y[:split] # 80% for training\n",
    "X_test, y_test = X[split:], y[split:] # 20% for testing\n",
    "\n",
    "print(len(X_train), len(y_train), len(X_test), len(y_test))\n",
    "\n",
    "device = \"mps\" if torch.backends.mps.is_available() else \"cuda\" if torch.cuda.is_available() else \"cpu\"\n",
    "X_train, X_test, y_train, y_test = (t.to(device) for t in (X_train, X_test, y_train, y_test))"
   ]
  },
  {
   "cell_type": "code",
   "execution_count": 3,
   "metadata": {},
   "outputs": [
    {
     "data": {
      "image/png": "[encoded data removed]",
      "text/plain": [
       "<Figure size 1000x700 with 1 Axes>"
      ]
     },
     "metadata": {},
     "output_type": "display_data"
    }
   ],
   "source": [
    "def plot_predictions(train_data=X_train, \n",
    "                     train_labels=y_train, \n",
    "                     test_data=X_test, \n",
    "                     test_labels=y_test, \n",
    "                     predictions=None):\n",
    "    \"\"\"\n",
    "    Plots training data, test data and compares predictions.\n",
    "    \"\"\"\n",
    "    plt.figure(figsize=(10, 7))\n",
    "\n",
    "    # Helper function to convert tensors to CPU and numpy\n",
    "    def to_cpu_numpy(data):\n",
    "        if isinstance(data, torch.Tensor):\n",
    "            return data.cpu().numpy()\n",
    "        return data\n",
    "\n",
    "    # Convert all tensors to CPU and numpy\n",
    "    train_data = to_cpu_numpy(train_data)\n",
    "    train_labels = to_cpu_numpy(train_labels)\n",
    "    test_data = to_cpu_numpy(test_data)\n",
    "    test_labels = to_cpu_numpy(test_labels)\n",
    "    \n",
    "    if predictions is not None:\n",
    "        predictions = to_cpu_numpy(predictions)\n",
    "\n",
    "    # Plot training data in blue\n",
    "    plt.scatter(train_data, train_labels, c=\"b\", s=4, label=\"Training data\")\n",
    "    \n",
    "    # Plot test data in green\n",
    "    plt.scatter(test_data, test_labels, c=\"g\", s=4, label=\"Testing data\")\n",
    "\n",
    "    if predictions is not None:\n",
    "        # Plot the predictions in red\n",
    "        plt.scatter(test_data, predictions, c=\"r\", s=4, label=\"Predictions\")\n",
    "\n",
    "    # Show the legend\n",
    "    plt.legend(prop={\"size\": 14})\n",
    "\n",
    "plot_predictions()"
   ]
  },
  {
   "cell_type": "markdown",
   "metadata": {},
   "source": [
    "---\n",
    "\n",
    "### 2. Build a PyTorch model by subclassing nn.Module.\n",
    "\n",
    "- Inside should be a randomly initialized nn.Parameter() with requires_grad=True, one for weights and one for bias.\n",
    "- Implement the forward() method to compute the linear regression function you used to create the dataset in 1.\n",
    "- Once you've constructed the model, make an instance of it and check its state_dict().\n"
   ]
  },
  {
   "cell_type": "code",
   "execution_count": 4,
   "metadata": {},
   "outputs": [],
   "source": [
    "# way 1\n",
    "class SimpleLinearRegressionV1(nn.Module):\n",
    "    def __init__(self):\n",
    "        super().__init__()\n",
    "\n",
    "        self.weights = nn.Parameter(\n",
    "            torch.randn(1, dtype=torch.float32),\n",
    "            requires_grad=True\n",
    "            )\n",
    "\n",
    "        self.biases = nn.Parameter(\n",
    "            torch.randn(1, dtype=torch.float32),\n",
    "            requires_grad=True\n",
    "            )\n",
    "    \n",
    "    def forward(self, x: torch.Tensor) -> torch.Tensor:\n",
    "        return self.weights * x + self.biases"
   ]
  },
  {
   "cell_type": "code",
   "execution_count": 5,
   "metadata": {},
   "outputs": [
    {
     "data": {
      "text/plain": [
       "OrderedDict([('weights', tensor([0.3076])), ('biases', tensor([0.2766]))])"
      ]
     },
     "execution_count": 5,
     "metadata": {},
     "output_type": "execute_result"
    }
   ],
   "source": [
    "torch.manual_seed(741)\n",
    "\n",
    "model_01 = SimpleLinearRegressionV1()\n",
    "model_01.state_dict()"
   ]
  },
  {
   "cell_type": "code",
   "execution_count": 6,
   "metadata": {},
   "outputs": [],
   "source": [
    "# way 2\n",
    "\n",
    "class SimpleLinearRegressionV2(nn.Module):\n",
    "    def __init__(self):\n",
    "        super().__init__()\n",
    "        self.linear_layer = nn.Linear(\n",
    "            in_features=1,\n",
    "            out_features=1,\n",
    "            bias=True,\n",
    "        )\n",
    "    \n",
    "    def forward(self, x: torch.Tensor) -> torch.Tensor:\n",
    "        return self.linear_layer(x)"
   ]
  },
  {
   "cell_type": "code",
   "execution_count": 7,
   "metadata": {},
   "outputs": [
    {
     "data": {
      "text/plain": [
       "OrderedDict([('linear_layer.weight', tensor([[-0.2209]])),\n",
       "             ('linear_layer.bias', tensor([-0.7778]))])"
      ]
     },
     "execution_count": 7,
     "metadata": {},
     "output_type": "execute_result"
    }
   ],
   "source": [
    "torch.manual_seed(741)\n",
    "\n",
    "model_02 = SimpleLinearRegressionV2()\n",
    "model_02.state_dict()"
   ]
  },
  {
   "cell_type": "markdown",
   "metadata": {},
   "source": [
    "---\n",
    "\n",
    "### A quick detour\n",
    "\n",
    "Let me take a quick detour to explain to myself what the significance is behind using `1` for `in_features` and `out_features` in `nn.Linear`. What do these numbers represent? \n",
    "\n",
    "Of course, I could simply wrap it up by stating to myself that it's the number of features in the input and the number of features in the output. But, I wanted to go a little further. What if the number wasn't 1? What if it wasn't a single number? What if it was a matrix?\n",
    "\n",
    "I tried with multiple inputs and outputs.\n",
    "\n",
    "Below, I consider a concrete example with:\n",
    "- 3 input features\n",
    "- 2 output features\n",
    "\n",
    "The weight matrix W would have shape (3, 2) because:\n",
    "- It needs to map 3 inputs to 2 outputs\n",
    "- Each column represents the weights for one output feature\n",
    "\n",
    "The bias vector b would have shape (2) because:\n",
    "- There needs to be one bias term for each output feature"
   ]
  },
  {
   "cell_type": "code",
   "execution_count": 8,
   "metadata": {},
   "outputs": [
    {
     "data": {
      "text/plain": [
       "(tensor([[ 1.3602,  0.7703, -2.0275],\n",
       "         [-0.4813, -0.1112, -1.4053],\n",
       "         [-0.1164,  0.0335, -0.6157]]),\n",
       " torch.Size([3, 3]))"
      ]
     },
     "execution_count": 8,
     "metadata": {},
     "output_type": "execute_result"
    }
   ],
   "source": [
    "X_ex = torch.randn(3,3)\n",
    "X_ex, X_ex.shape"
   ]
  },
  {
   "cell_type": "code",
   "execution_count": 9,
   "metadata": {},
   "outputs": [
    {
     "data": {
      "text/plain": [
       "(tensor([[ 0.0942,  0.8087],\n",
       "         [ 0.8294,  0.5845],\n",
       "         [-0.1005,  0.7330]]),\n",
       " torch.Size([3, 2]))"
      ]
     },
     "execution_count": 9,
     "metadata": {},
     "output_type": "execute_result"
    }
   ],
   "source": [
    "W_ex = torch.randn(3,2)\n",
    "W_ex, W_ex.shape"
   ]
  },
  {
   "cell_type": "code",
   "execution_count": 10,
   "metadata": {},
   "outputs": [
    {
     "data": {
      "text/plain": [
       "(tensor([-0.4016,  0.0796]), torch.Size([2]))"
      ]
     },
     "execution_count": 10,
     "metadata": {},
     "output_type": "execute_result"
    }
   ],
   "source": [
    "b_ex = torch.randn(2)\n",
    "b_ex, b_ex.shape"
   ]
  },
  {
   "cell_type": "markdown",
   "metadata": {},
   "source": [
    "So, computation for this is:\n",
    "$$y[i, j] = x[i, 0] * W[0, j] + x[i, 1] * W[1, j] + b[j]$$\n",
    "\n"
   ]
  },
  {
   "cell_type": "code",
   "execution_count": 11,
   "metadata": {},
   "outputs": [
    {
     "data": {
      "text/plain": [
       "tensor([[ 0.5691,  0.1436],\n",
       "        [-0.3980, -1.4047],\n",
       "        [-0.3229, -0.4463]])"
      ]
     },
     "execution_count": 11,
     "metadata": {},
     "output_type": "execute_result"
    }
   ],
   "source": [
    "y_ex = X_ex @ W_ex + b_ex\n",
    "y_ex"
   ]
  },
  {
   "cell_type": "markdown",
   "metadata": {},
   "source": [
    "A PyTorch model for this would be:"
   ]
  },
  {
   "cell_type": "code",
   "execution_count": 12,
   "metadata": {},
   "outputs": [],
   "source": [
    "class MultiInputOutputModel(nn.Module):\n",
    "    def __init__(self):\n",
    "        super().__init__()\n",
    "        self.linear = nn.Linear(\n",
    "            in_features=3, out_features=2, bias=True, dtype=torch.float32\n",
    "            )\n",
    "    def forward(self, x: torch.Tensor) -> torch.Tensor:\n",
    "        return self.linear(x)"
   ]
  },
  {
   "cell_type": "code",
   "execution_count": 13,
   "metadata": {},
   "outputs": [
    {
     "data": {
      "text/plain": [
       "OrderedDict([('linear.weight',\n",
       "              tensor([[ 0.0133, -0.5068,  0.1708],\n",
       "                      [-0.0020,  0.4990, -0.1469]])),\n",
       "             ('linear.bias', tensor([0.4665, 0.3191]))])"
      ]
     },
     "execution_count": 13,
     "metadata": {},
     "output_type": "execute_result"
    }
   ],
   "source": [
    "# creating an instance of this model\n",
    "multi_model = MultiInputOutputModel()\n",
    "multi_model.state_dict()"
   ]
  },
  {
   "cell_type": "markdown",
   "metadata": {},
   "source": [
    "Here, I can see that the `linear.weight` has shape (2, 3) (despite our intuition that it should be (3, 2)) and the `linear.bias` has shape (2).\n",
    "\n",
    "This is because PyTorch's `nn.Linear` class always transposes the weight matrix to (out_features, in_features). It calls the weight matrix `W` and the input matrix `X` and computes `X @ W.T + b`. \"Affine transformation\" is the term used for this operation.\n",
    "\n",
    "This is a bit counterintuitive, but it's a consequence of how PyTorch handles matrix multiplication.\n",
    "\n",
    "**In summary:**\n",
    "\n",
    "Case 1:\n",
    "- a `nn.Linear` layer with `in_features=3` and `out_features=2` will have a weight matrix of shape (2, 3).\n",
    "- the input matrix `X` will be multiplied by the weight matrix `W.T` (transposed) and then added to the bias vector `b`. So, the bias vector `b` will have shape (2).\n",
    "\n",
    "Case 2:\n",
    "- a `nn.Linear` layer with `in_features=5` and `out_features=12` will have a weight matrix of shape (12, 5).\n",
    "- the input matrix `X` will be multiplied by the weight matrix `W.T` (transposed) and then added to the bias vector `b`. So, the bias vector `b` will have shape (12).\n"
   ]
  },
  {
   "cell_type": "markdown",
   "metadata": {},
   "source": [
    "Of course, I can also set the weights and biases manually. \n",
    "\n",
    "Here, I set the weights and biases manually for the `multi_model` instance."
   ]
  },
  {
   "cell_type": "code",
   "execution_count": 14,
   "metadata": {},
   "outputs": [],
   "source": [
    "# setting specific weights and biases for demo\n",
    "with torch.inference_mode():\n",
    "    multi_model.linear.weight = nn.Parameter(torch.tensor([[0.1, 0.2],\n",
    "                                                     [0.3, 0.4],\n",
    "                                                     [0.5, 0.6]]))\n",
    "    multi_model.linear.bias = nn.Parameter(torch.tensor([0.01, 0.02]))\n"
   ]
  },
  {
   "cell_type": "code",
   "execution_count": 15,
   "metadata": {},
   "outputs": [
    {
     "data": {
      "text/plain": [
       "OrderedDict([('linear.weight',\n",
       "              tensor([[0.1000, 0.2000],\n",
       "                      [0.3000, 0.4000],\n",
       "                      [0.5000, 0.6000]])),\n",
       "             ('linear.bias', tensor([0.0100, 0.0200]))])"
      ]
     },
     "execution_count": 15,
     "metadata": {},
     "output_type": "execute_result"
    }
   ],
   "source": [
    "multi_model.state_dict()"
   ]
  },
  {
   "cell_type": "markdown",
   "metadata": {},
   "source": [
    "Here, I can see that the `linear.weight` has shape (3, 2) and the `linear.bias` has shape (2).\n",
    "\n",
    "```python\n",
    "OrderedDict([('linear.weight',\n",
    "              tensor([[0.1000, 0.2000],\n",
    "                      [0.3000, 0.4000],\n",
    "                      [0.5000, 0.6000]])),\n",
    "             ('linear.bias', tensor([0.0100, 0.0200]))]\n",
    "```\n",
    "\n",
    "Obviously, we don't really (and often it is not) set the weights and biases manually. We use the `nn.Linear` class to do that because we probably don't even know what the weights and biases are. We let the model learn them.\n",
    "\n",
    "\n",
    "#### Detour over\n",
    "\n",
    "---"
   ]
  },
  {
   "cell_type": "markdown",
   "metadata": {},
   "source": [
    "---\n",
    "\n",
    "### 3. Create a loss function and optimizer using `nn.L1Loss()` and `torch.optim.SGD(params, lr)` respectively.\n",
    "\n",
    "- Set the learning rate of the optimizer to be 0.01 and the parameters to optimize should be the model parameters from the model you created in 2.\n",
    "- Write a training loop to perform the appropriate training steps for 300 epochs.\n",
    "- The training loop should test the model on the test dataset every 20 epochs.\n"
   ]
  },
  {
   "cell_type": "code",
   "execution_count": 16,
   "metadata": {},
   "outputs": [],
   "source": [
    "loss_fn = nn.L1Loss()\n",
    "\n",
    "optimizer = torch.optim.SGD(params=model_02.parameters(), lr=0.01)"
   ]
  },
  {
   "cell_type": "code",
   "execution_count": 17,
   "metadata": {},
   "outputs": [
    {
     "name": "stdout",
     "output_type": "stream",
     "text": [
      "Epoch 0 | Train Loss: 3.7559354305267334 | Test Loss: 6.015811920166016\n",
      "\n",
      "Epoch 20 | Train Loss: 0.6255341172218323 | Test Loss: 0.7677910327911377\n",
      "\n",
      "Epoch 40 | Train Loss: 0.5842267870903015 | Test Loss: 0.8357445001602173\n",
      "\n",
      "Epoch 60 | Train Loss: 0.5503575205802917 | Test Loss: 0.7852458357810974\n",
      "\n",
      "Epoch 80 | Train Loss: 0.516488254070282 | Test Loss: 0.734747052192688\n",
      "\n",
      "Epoch 100 | Train Loss: 0.48264357447624207 | Test Loss: 0.6972829699516296\n",
      "\n",
      "Epoch 120 | Train Loss: 0.4487926661968231 | Test Loss: 0.6467865109443665\n",
      "\n",
      "Epoch 140 | Train Loss: 0.41492339968681335 | Test Loss: 0.5962911248207092\n",
      "\n",
      "Epoch 160 | Train Loss: 0.38105419278144836 | Test Loss: 0.5457954406738281\n",
      "\n",
      "Epoch 180 | Train Loss: 0.3471848964691162 | Test Loss: 0.4952998161315918\n",
      "\n",
      "Epoch 200 | Train Loss: 0.3133157193660736 | Test Loss: 0.4448041021823883\n",
      "\n",
      "Epoch 220 | Train Loss: 0.2794564366340637 | Test Loss: 0.40734273195266724\n",
      "\n",
      "Epoch 240 | Train Loss: 0.2456190586090088 | Test Loss: 0.35684728622436523\n",
      "\n",
      "Epoch 260 | Train Loss: 0.2117508500814438 | Test Loss: 0.30635175108909607\n",
      "\n",
      "Epoch 280 | Train Loss: 0.17788158357143402 | Test Loss: 0.2558562755584717\n",
      "\n"
     ]
    }
   ],
   "source": [
    "# training loop\n",
    "\n",
    "torch.manual_seed(741)\n",
    "\n",
    "device = \"mps\" if torch.backends.mps.is_available() else \"cuda\" if torch.cuda.is_available() else \"cpu\"\n",
    "model_02, X_train, X_test, y_train, y_test = (t.to(device) for t in (model_02, X_train, X_test, y_train, y_test))\n",
    "\n",
    "epochs = 300\n",
    "\n",
    "train_loss_val = []\n",
    "test_loss_val = []\n",
    "epoch_count = []\n",
    "\n",
    "for epoch in range(epochs):\n",
    "    # +++++++++++++++++++++++++++ training mode\n",
    "    model_02.train()\n",
    "\n",
    "    # forward pass\n",
    "    y_pred = model_02(X_train)\n",
    "\n",
    "    # loss calc\n",
    "    loss = loss_fn(y_pred, y_train)\n",
    "\n",
    "    # zero grad\n",
    "    optimizer.zero_grad()\n",
    "\n",
    "    # backward\n",
    "    loss.backward()\n",
    "\n",
    "    # step\n",
    "    optimizer.step()\n",
    "\n",
    "    # ++++++++++++++++++++++++++ test mode\n",
    "    model_02.eval()\n",
    "\n",
    "    with torch.inference_mode():\n",
    "        test_pred = model_02(X_test)\n",
    "        test_loss = loss_fn(test_pred, y_test)\n",
    "    \n",
    "    if epoch % 20 == 0:\n",
    "        print(f\"\"\"Epoch {epoch} | Train Loss: {loss} | Test Loss: {test_loss}\n",
    "\"\"\")\n",
    "        train_loss_val.append(loss)\n",
    "        test_loss_val.append(test_loss)\n",
    "        epoch_count.append(epoch)"
   ]
  },
  {
   "cell_type": "code",
   "execution_count": 18,
   "metadata": {},
   "outputs": [
    {
     "data": {
      "image/png": "[encoded data removed]",
      "text/plain": [
       "<Figure size 1000x700 with 1 Axes>"
      ]
     },
     "metadata": {},
     "output_type": "display_data"
    }
   ],
   "source": [
    "plt.figure(figsize=(10, 7))\n",
    "\n",
    "# Convert tensors to numpy arrays if needed\n",
    "train_loss_values = [loss.item() for loss in train_loss_val]\n",
    "test_loss_values = [loss.item() for loss in test_loss_val]\n",
    "\n",
    "plt.plot(epoch_count, train_loss_values, label=\"Train Loss\", marker='o')\n",
    "plt.plot(epoch_count, test_loss_values, label=\"Test Loss\", marker='o')\n",
    "plt.title(\"Training and Test Loss Curves\")\n",
    "plt.ylabel(\"Loss\")\n",
    "plt.xlabel(\"Epochs\")\n",
    "plt.legend()\n",
    "plt.grid(True)\n",
    "plt.show()"
   ]
  },
  {
   "cell_type": "code",
   "execution_count": 19,
   "metadata": {},
   "outputs": [
    {
     "name": "stdout",
     "output_type": "stream",
     "text": [
      "The model learned the following values for weights and bias:\n",
      "OrderedDict([('linear_layer.weight', tensor([[0.3614]], device='mps:0')), ('linear_layer.bias', tensor([0.5555], device='mps:0'))])\n",
      "\n",
      "And the original values for weights and bias are:\n",
      "weights: 0.3, bias: 0.9\n"
     ]
    }
   ],
   "source": [
    "print(\"The model learned the following values for weights and bias:\")\n",
    "print(model_02.state_dict())\n",
    "print(\"\\nAnd the original values for weights and bias are:\")\n",
    "print(f\"weights: {weight}, bias: {bias}\")"
   ]
  },
  {
   "cell_type": "markdown",
   "metadata": {},
   "source": [
    "---\n",
    "\n",
    "### 4. Make predictions with the trained model on the test data.\n",
    "\n",
    "Visualize these predictions against the original training and testing data (note: you may need to make sure the predictions are not on the GPU if you want to use non-CUDA-enabled libraries such as matplotlib to plot).\n"
   ]
  },
  {
   "cell_type": "code",
   "execution_count": 20,
   "metadata": {},
   "outputs": [
    {
     "data": {
      "text/plain": [
       "tensor([[3.4758],\n",
       "        [3.5123],\n",
       "        [3.5488],\n",
       "        [3.5853],\n",
       "        [3.6218],\n",
       "        [3.6583],\n",
       "        [3.6948],\n",
       "        [3.7314],\n",
       "        [3.7679],\n",
       "        [3.8044],\n",
       "        [3.8409],\n",
       "        [3.8774],\n",
       "        [3.9139],\n",
       "        [3.9504],\n",
       "        [3.9869],\n",
       "        [4.0234],\n",
       "        [4.0599],\n",
       "        [4.0964],\n",
       "        [4.1329],\n",
       "        [4.1694]], device='mps:0')"
      ]
     },
     "execution_count": 20,
     "metadata": {},
     "output_type": "execute_result"
    }
   ],
   "source": [
    "model_02.eval()\n",
    "\n",
    "if torch.backends.mps.is_available():\n",
    "    device = \"mps\"\n",
    "elif torch.cuda.is_available():\n",
    "    device = \"cuda\"\n",
    "else:\n",
    "    device = \"cpu\"\n",
    "\n",
    "model_02.to(device)\n",
    "\n",
    "with torch.inference_mode():\n",
    "    prediction = model_02(X_test)\n",
    "\n",
    "prediction"
   ]
  },
  {
   "cell_type": "code",
   "execution_count": 21,
   "metadata": {},
   "outputs": [
    {
     "data": {
      "image/png": "[encoded data removed]",
      "text/plain": [
       "<Figure size 1000x700 with 1 Axes>"
      ]
     },
     "metadata": {},
     "output_type": "display_data"
    }
   ],
   "source": [
    "plot_predictions(predictions=prediction)"
   ]
  },
  {
   "cell_type": "markdown",
   "metadata": {},
   "source": [
    "---\n",
    "\n",
    "### 5. Save your trained model's state_dict() to file.\n",
    "\n",
    "Create a new instance of your model class you made in 2. and load in the state_dict() you just saved to it.\n",
    "Perform predictions on your test data with the loaded model and confirm they match the original model predictions from 4."
   ]
  },
  {
   "cell_type": "code",
   "execution_count": 22,
   "metadata": {},
   "outputs": [
    {
     "name": "stdout",
     "output_type": "stream",
     "text": [
      "Saving this model to: models/exercise_linear_regression_model.pth\n"
     ]
    }
   ],
   "source": [
    "from pathlib import Path\n",
    "\n",
    "MODEL_PATH = Path(\"models\")\n",
    "MODEL_PATH.mkdir(parents=True, exist_ok=True)\n",
    "\n",
    "MODEL_NAME = \"exercise_linear_regression_model.pth\"\n",
    "MODEL_SAVE_PATH = MODEL_PATH/MODEL_NAME\n",
    "\n",
    "print(f\"Saving this model to: {MODEL_SAVE_PATH}\")\n",
    "#saving only the dict\n",
    "torch.save(obj=model_02.state_dict(), f=MODEL_SAVE_PATH)"
   ]
  },
  {
   "cell_type": "markdown",
   "metadata": {},
   "source": [
    "### Loading the saved model to ensure it works"
   ]
  },
  {
   "cell_type": "code",
   "execution_count": 23,
   "metadata": {},
   "outputs": [
    {
     "name": "stdout",
     "output_type": "stream",
     "text": [
      "Loaded model:\n",
      "SimpleLinearRegressionV2(\n",
      "  (linear_layer): Linear(in_features=1, out_features=1, bias=True)\n",
      ")\n",
      "Model on device:\n",
      "mps:0\n"
     ]
    },
    {
     "name": "stderr",
     "output_type": "stream",
     "text": [
      "/var/folders/27/84mpvnn15tlby6jt5y456k5c0000gn/T/ipykernel_95460/3636246623.py:3: FutureWarning: You are using `torch.load` with `weights_only=False` (the current default value), which uses the default pickle module implicitly. It is possible to construct malicious pickle data which will execute arbitrary code during unpickling (See https://github.com/pytorch/pytorch/blob/main/SECURITY.md#untrusted-models for more details). In a future release, the default value for `weights_only` will be flipped to `True`. This limits the functions that could be executed during unpickling. Arbitrary objects will no longer be allowed to be loaded via this mode unless they are explicitly allowlisted by the user via `torch.serialization.add_safe_globals`. We recommend you start setting `weights_only=True` for any use case where you don't have full control of the loaded file. Please open an issue on GitHub for any issues related to this experimental feature.\n",
      "  loaded_model_02.load_state_dict(torch.load(f=MODEL_SAVE_PATH))\n"
     ]
    }
   ],
   "source": [
    "loaded_model_02 = SimpleLinearRegressionV2()\n",
    "\n",
    "loaded_model_02.load_state_dict(torch.load(f=MODEL_SAVE_PATH))\n",
    "\n",
    "loaded_model_02.to(device)\n",
    "print(f\"Loaded model:\\n{loaded_model_02}\")\n",
    "print(f\"Model on device:\\n{next(loaded_model_02.parameters()).device}\")"
   ]
  },
  {
   "cell_type": "code",
   "execution_count": 24,
   "metadata": {},
   "outputs": [
    {
     "data": {
      "text/plain": [
       "tensor([[True],\n",
       "        [True],\n",
       "        [True],\n",
       "        [True],\n",
       "        [True],\n",
       "        [True],\n",
       "        [True],\n",
       "        [True],\n",
       "        [True],\n",
       "        [True],\n",
       "        [True],\n",
       "        [True],\n",
       "        [True],\n",
       "        [True],\n",
       "        [True],\n",
       "        [True],\n",
       "        [True],\n",
       "        [True],\n",
       "        [True],\n",
       "        [True]], device='mps:0')"
      ]
     },
     "execution_count": 24,
     "metadata": {},
     "output_type": "execute_result"
    }
   ],
   "source": [
    "# Evaluate loaded model\n",
    "loaded_model_02.eval()\n",
    "with torch.inference_mode():\n",
    "    loaded_model_02_preds = loaded_model_02(X_test)\n",
    "prediction == loaded_model_02_preds"
   ]
  }
 ],
 "metadata": {
  "kernelspec": {
   "display_name": "venv_python",
   "language": "python",
   "name": "python3"
  },
  "language_info": {
   "codemirror_mode": {
    "name": "ipython",
    "version": 3
   },
   "file_extension": ".py",
   "mimetype": "text/x-python",
   "name": "python",
   "nbconvert_exporter": "python",
   "pygments_lexer": "ipython3",
   "version": "3.9.6"
  }
 },
 "nbformat": 4,
 "nbformat_minor": 2
}
